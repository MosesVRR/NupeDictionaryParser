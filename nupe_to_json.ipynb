{
 "cells": [
  {
   "cell_type": "code",
   "execution_count": 1,
   "metadata": {},
   "outputs": [
    {
     "name": "stdout",
     "output_type": "stream",
     "text": [
      "Conversion complete! JSON saved at: data/nupe_dictionary.json\n"
     ]
    }
   ],
   "source": [
    "import json\n",
    "\n",
    "def convert_nupe_dictionary(txt_file_path, json_file_path):\n",
    "    \"\"\"\n",
    "    Converts a Nupe dictionary text file into JSON format, handling multi-line entries properly.\n",
    "    \n",
    "    :param txt_file_path: Path to the input .txt file\n",
    "    :param json_file_path: Path to save the output .json file\n",
    "    \"\"\"\n",
    "    with open(txt_file_path, \"r\", encoding=\"utf-8\") as file:\n",
    "        lines = file.readlines()\n",
    "\n",
    "    entries = []\n",
    "    current_entry = None  # To track multi-line Additional Info\n",
    "\n",
    "    for line in lines:\n",
    "        # Remove extra spaces and newlines\n",
    "        line = line.strip()\n",
    "        \n",
    "        # Skip headers and empty lines\n",
    "        if not line or \"Nupe  PoS  C  English\" in line:\n",
    "            continue\n",
    "\n",
    "        # Split line based on multiple spaces\n",
    "        parts = [p.strip() for p in line.split(\"  \") if p.strip()]\n",
    "\n",
    "        if len(parts) >= 3:  # New dictionary entry found\n",
    "            if current_entry:  \n",
    "                entries.append(current_entry)  # Save previous entry before starting a new one\n",
    "\n",
    "            current_entry = {\n",
    "                \"Nupe\": parts[0],\n",
    "                \"PoS\": parts[1],\n",
    "                \"English\": parts[2],\n",
    "                \"Additional Info\": \" \".join(parts[3:]) if len(parts) > 3 else \"\"\n",
    "            }\n",
    "\n",
    "        elif current_entry:  \n",
    "            # Append multi-line additional info to the last entry\n",
    "            current_entry[\"Additional Info\"] += \" \" + line  \n",
    "\n",
    "    # Save the last entry if it exists\n",
    "    if current_entry:\n",
    "        entries.append(current_entry)\n",
    "\n",
    "    # Convert to JSON and save to file\n",
    "    with open(json_file_path, \"w\", encoding=\"utf-8\") as json_file:\n",
    "        json.dump(entries, json_file, indent=4, ensure_ascii=False)\n",
    "\n",
    "    print(f\"Conversion complete! JSON saved at: {json_file_path}\")\n",
    "\n",
    "# Example usage\n",
    "txt_file_path = \"data/nupe_dictionary_raw.txt\"  # Change to your file path\n",
    "json_file_path = \"data/nupe_dictionary.json\"  # Output JSON file name\n",
    "convert_nupe_dictionary(txt_file_path, json_file_path)"
   ]
  }
 ],
 "metadata": {
  "kernelspec": {
   "display_name": "nupe",
   "language": "python",
   "name": "python3"
  },
  "language_info": {
   "codemirror_mode": {
    "name": "ipython",
    "version": 3
   },
   "file_extension": ".py",
   "mimetype": "text/x-python",
   "name": "python",
   "nbconvert_exporter": "python",
   "pygments_lexer": "ipython3",
   "version": "3.13.2"
  }
 },
 "nbformat": 4,
 "nbformat_minor": 2
}
